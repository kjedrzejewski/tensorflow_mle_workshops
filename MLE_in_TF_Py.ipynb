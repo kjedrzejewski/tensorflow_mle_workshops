{
 "cells": [
  {
   "cell_type": "markdown",
   "metadata": {},
   "source": [
    "# Maximum Likelihood Estimation in TensorFlow"
   ]
  },
  {
   "cell_type": "markdown",
   "metadata": {},
   "source": [
    "## 0. Documentation"
   ]
  },
  {
   "cell_type": "markdown",
   "metadata": {},
   "source": [
    "You may find the documentation [here](https://www.tensorflow.org/)."
   ]
  },
  {
   "cell_type": "markdown",
   "metadata": {},
   "source": [
    "## 1. Computation Graphs and Sessions"
   ]
  },
  {
   "cell_type": "markdown",
   "metadata": {},
   "source": [
    "### 1.1 Sessions"
   ]
  },
  {
   "cell_type": "markdown",
   "metadata": {},
   "source": [
    "<p>To start with, let's load the packages we will need:</p>"
   ]
  },
  {
   "cell_type": "code",
   "execution_count": null,
   "metadata": {},
   "outputs": [],
   "source": [
    "import tensorflow as tf\n",
    "import numpy as np"
   ]
  },
  {
   "cell_type": "markdown",
   "metadata": {},
   "source": [
    "<p>Sessions represent a connection between the client program and the C++ runtime. We need them to run all computations, e.g. because they store values of variables. Let's create one:</p>"
   ]
  },
  {
   "cell_type": "code",
   "execution_count": null,
   "metadata": {},
   "outputs": [],
   "source": [
    "sess = tf.Session()"
   ]
  },
  {
   "cell_type": "markdown",
   "metadata": {},
   "source": [
    "When we finish working with a graph, we should close the session, to free up the resources associated with it:"
   ]
  },
  {
   "cell_type": "code",
   "execution_count": null,
   "metadata": {},
   "outputs": [],
   "source": [
    "sess.close()"
   ]
  },
  {
   "cell_type": "markdown",
   "metadata": {},
   "source": [
    "But, since we will need a session, let's create the next one:"
   ]
  },
  {
   "cell_type": "code",
   "execution_count": null,
   "metadata": {},
   "outputs": [],
   "source": [
    "sess = tf.Session()"
   ]
  },
  {
   "cell_type": "markdown",
   "metadata": {},
   "source": [
    "### 1.2 Computation graphs"
   ]
  },
  {
   "cell_type": "markdown",
   "metadata": {},
   "source": [
    "<p>\n",
    "    Computations in TensorFlow are expressed as Computation Graphs, which consist of multiple types of nodes:\n",
    "</p>"
   ]
  },
  {
   "cell_type": "markdown",
   "metadata": {},
   "source": [
    "#### - constants\n",
    "<p>Constants are tensors the values of which cannot be changed after their creation. We can use them to store observation data, esp. if we would like to estimate our model parameters using General Purpose Graphics Processing Units (GPGPUs). This way we will avoid continuous data transfer between GPGPU and the main computer memory.</p>"
   ]
  },
  {
   "cell_type": "code",
   "execution_count": null,
   "metadata": {},
   "outputs": [],
   "source": [
    "cnst = tf.constant(42) # let's define a constant which contains the answer to life, the universe and everything"
   ]
  },
  {
   "cell_type": "markdown",
   "metadata": {},
   "source": [
    "<p><b>sess.run(var)</b> means evaluate and return the value of a node which is indicated by the variable <b>var</b></p>"
   ]
  },
  {
   "cell_type": "code",
   "execution_count": null,
   "metadata": {},
   "outputs": [],
   "source": [
    "sess.run(cnst) # and now let's read its value"
   ]
  },
  {
   "cell_type": "markdown",
   "metadata": {},
   "source": [
    "<p>Constants and other tensors do not need to be scalars. They can be vectors or matrices having 2 or more dimensions<p>"
   ]
  },
  {
   "cell_type": "code",
   "execution_count": null,
   "metadata": {},
   "outputs": [],
   "source": [
    "vec = np.arange(1,11)\n",
    "cnst_vec = tf.constant(vec) # a constant containing a vector\n",
    "sess.run(cnst_vec)"
   ]
  },
  {
   "cell_type": "code",
   "execution_count": null,
   "metadata": {},
   "outputs": [],
   "source": [
    "mat = np.arange(1,17).reshape([4,4])\n",
    "cnst_mat = tf.constant(mat) # a constant containing a 2D matrix\n",
    "sess.run(cnst_mat)"
   ]
  },
  {
   "cell_type": "markdown",
   "metadata": {},
   "source": [
    "#### - variables\n",
    "<p>Variables are tensors the values of which can be changed when operations are run. They can be initialised using a constant or a random value from a selected distribution. We can use them to represent model parameters.</p>"
   ]
  },
  {
   "cell_type": "code",
   "execution_count": null,
   "metadata": {},
   "outputs": [],
   "source": [
    "vrbl = tf.Variable(                                      # let's create a variable\n",
    "    tf.random_normal(shape = [1], mean = 0, stddev = 1)  # that will be a single scalar, initialised from normal(0,1) distribution\n",
    ")"
   ]
  },
  {
   "cell_type": "code",
   "execution_count": null,
   "metadata": {},
   "outputs": [],
   "source": [
    "sess.run(tf.global_variables_initializer()) # let's initialise our variable (it needs to be run, even if we initialize a variable with a constant)\n",
    "# because, we initialise this variable using a random distribution, its value will change every time we will rerun this cell"
   ]
  },
  {
   "cell_type": "code",
   "execution_count": null,
   "metadata": {},
   "outputs": [],
   "source": [
    "sess.run(vrbl) # and check its value"
   ]
  },
  {
   "cell_type": "markdown",
   "metadata": {},
   "source": [
    "#### - placeholders\n",
    "<p>Placeholders are tensors that we can use to pass values in the moment of running a graph. When we define a placeholder, we need to provide its values at the moment of running a node, which either is that placeholder, or which depends directly or indirectly on that placeholder. In general, they behave similarly to constants, but when we use them, their values need to be transferred to the memory of the processing unit that is running the graph. It's not a big deal if the processing is done on a local CPU – but it will slow down computations on the GPU.</p>"
   ]
  },
  {
   "cell_type": "code",
   "execution_count": null,
   "metadata": {},
   "outputs": [],
   "source": [
    "phld = tf.placeholder(tf.float32) # let's define a placeholder, which will expect to have a 32-bit float (not double) assigned"
   ]
  },
  {
   "cell_type": "code",
   "execution_count": null,
   "metadata": {},
   "outputs": [],
   "source": [
    "sess.run(phld) # when we run a graph that contains placeholders without setting their values, it throws an error, because the value of a placeholder isn't set"
   ]
  },
  {
   "cell_type": "code",
   "execution_count": null,
   "metadata": {},
   "outputs": [],
   "source": [
    "sess.run(phld, feed_dict = {phld: 8}) # when we set a value to a placeholder when running a graph that contains it, its value will be returned"
   ]
  },
  {
   "cell_type": "markdown",
   "metadata": {},
   "source": [
    "#### - operations\n",
    "<p>Operations are nodes that do the actual calculations. They take tensors as inputs and produce tensors as outputs.</p>"
   ]
  },
  {
   "cell_type": "code",
   "execution_count": null,
   "metadata": {},
   "outputs": [],
   "source": [
    "a = tf.constant(1) # let's define two constant nodes...\n",
    "b = tf.constant(2)\n",
    "\n",
    "c = a + b # ... and a node which is equal to their sum"
   ]
  },
  {
   "cell_type": "markdown",
   "metadata": {},
   "source": [
    "![](img/1_2_graph.png)"
   ]
  },
  {
   "cell_type": "code",
   "execution_count": null,
   "metadata": {},
   "outputs": [],
   "source": [
    "sess.run(c) # yep, it's confirmed, 1 + 2 = 3. Math in TensorFlow works like anywhere else"
   ]
  },
  {
   "cell_type": "markdown",
   "metadata": {},
   "source": [
    "### 1.3 Example - Pythagorean theorem"
   ]
  },
  {
   "cell_type": "markdown",
   "metadata": {},
   "source": [
    "<p>In this example, we will create a graph that uses the Pythagorean theorem to calculate the length of the <i>hypotenuse</i> when having the lenghts of <i>legs</i> provided as inputs. The equation we need is:</p>\n",
    "<p>$c = \\sqrt{a^2 + b^2}$</p>\n",
    "<p>Let's express it as a computation graph:</p>"
   ]
  },
  {
   "cell_type": "code",
   "execution_count": null,
   "metadata": {},
   "outputs": [],
   "source": [
    "a = tf.placeholder(tf.float32) # placeholder for two sides lengths\n",
    "b = tf.placeholder(tf.float32)\n",
    "\n",
    "c_square = tf.square(a) + tf.square(b)  # now we need to calculate sum of legs lengths squares (or rather create a node that computes it)\n",
    "\n",
    "c = tf.sqrt(c_square) # and now we can calculate the square root of c_square"
   ]
  },
  {
   "cell_type": "markdown",
   "metadata": {},
   "source": [
    "<p>The graph we created above looks like:</p>\n",
    "\n",
    "![](img/1_3_pyth_graph.png)\n",
    "\n",
    "<p>Now we can evaluate the <i>c</i> node value in a session:</p>"
   ]
  },
  {
   "cell_type": "code",
   "execution_count": null,
   "metadata": {},
   "outputs": [],
   "source": [
    "sess.run(c, feed_dict = {a: 3, b: 4}) # because a and b are placeholders, and they're needed for c node calculation\n",
    "                                      # we need to assign a and b values when running the c node calculation"
   ]
  },
  {
   "cell_type": "code",
   "execution_count": null,
   "metadata": {},
   "outputs": [],
   "source": [
    "sess.run([a, b, c_square, c], feed_dict = {a: 3, b: 4}) # of course, we can also run multiple nodes in one call.\n",
    "                                                        # then value of each node is returned in a list"
   ]
  },
  {
   "cell_type": "markdown",
   "metadata": {},
   "source": [
    "### 1.4 Example - vector cosine"
   ]
  },
  {
   "cell_type": "markdown",
   "metadata": {},
   "source": [
    "<p>Now we will create a graph that will calculate the value of a cosine between two vectors. The equation we will use is:</p>\n",
    "$\\cos(∡\\mathbf{A}\\mathbf{B}) = {\\mathbf{A} \\cdot \\mathbf{B} \\over \\|\\mathbf{A}\\| \\|\\mathbf{B}\\|} = \\frac{ \\sum\\limits_{i=1}^{n}{A_i  B_i} }{ \\sqrt{\\sum\\limits_{i=1}^{n}{A_i^2}}  \\sqrt{\\sum\\limits_{i=1}^{n}{B_i^2}} }$"
   ]
  },
  {
   "cell_type": "code",
   "execution_count": null,
   "metadata": {},
   "outputs": [],
   "source": [
    "vec_a = tf.placeholder(tf.float64)\n",
    "vec_b = tf.placeholder(tf.float64)\n",
    "\n",
    "dotprod_ab = tf.tensordot(vec_a, vec_b, 1)\n",
    "len_a = tf.norm(vec_a)\n",
    "len_b = tf.norm(vec_b)\n",
    "\n",
    "len_ab_prod = len_a * len_b\n",
    "\n",
    "cos_ab = dotprod_ab / len_ab_prod"
   ]
  },
  {
   "cell_type": "markdown",
   "metadata": {},
   "source": [
    "![](img/1_4_cosine.png)"
   ]
  },
  {
   "cell_type": "code",
   "execution_count": null,
   "metadata": {},
   "outputs": [],
   "source": [
    "sess.run(cos_ab, feed_dict = {vec_a: [3,4,5,6], vec_b: [6,8,10,12]}) # the result here should be 1, because\n",
    "                                                                     # these vectors have exactly the same direction"
   ]
  },
  {
   "cell_type": "code",
   "execution_count": null,
   "metadata": {},
   "outputs": [],
   "source": [
    "sess.run(cos_ab, feed_dict = {vec_a: [3,4], vec_b: [-4,3]}) # the result here should be 0, because these vectors are perpendicular"
   ]
  },
  {
   "cell_type": "code",
   "execution_count": null,
   "metadata": {},
   "outputs": [],
   "source": [
    "sess.run(cos_ab, feed_dict = {vec_a: [3,4,10], vec_b: [-3,-4,-10]}) # the result here should be -1, because a points in the opposite direction than b"
   ]
  },
  {
   "cell_type": "markdown",
   "metadata": {},
   "source": [
    "### 1.5 Exercise"
   ]
  },
  {
   "cell_type": "markdown",
   "metadata": {},
   "source": [
    "<p>Build a graph which will calculate the value of covariance between <i>x</i> and <i>y</i> vectors which should be provided as placeholders' values during a session.run() call.</p>\n",
    "\n",
    "$cov(x,y) = {\\sum_{i=1}^n (X_i - \\overline{X})(Y_i - \\overline{Y}) \\over n-1}$"
   ]
  },
  {
   "cell_type": "code",
   "execution_count": null,
   "metadata": {},
   "outputs": [],
   "source": [
    "x = None # TODO: define a placeholder for x\n",
    "y = None # TODO: define a placeholder for y\n",
    "\n",
    "mean_x = None # TODO: calculate the mean of x\n",
    "mean_y = None # TODO: calculate the mean of y\n",
    "\n",
    "n_1 = tf.cast(tf.size(x), tf.float64) - 1 # number of elements in x minus 1\n",
    "\n",
    "diff_x = None # TODO: calculate the difference between vector x and its mean\n",
    "diff_y = None # TODO: calculate the difference between vector y and its mean\n",
    "\n",
    "diff_xy_prod = None # TODO: calculate the dot product of diff_x and diff_y. You can use tf.reduce_sum or tf.tensordot\n",
    "\n",
    "cov_xy = None # TODO: divide diff_xy_prod by n - 1"
   ]
  },
  {
   "cell_type": "code",
   "execution_count": null,
   "metadata": {},
   "outputs": [],
   "source": [
    "sess.run(cov_xy, feed_dict = {x: [5,20,40], y: [10,24,33]})"
   ]
  },
  {
   "cell_type": "markdown",
   "metadata": {},
   "source": [
    "<p>The expected result is: <i>199.166666666667</i></p>"
   ]
  },
  {
   "cell_type": "markdown",
   "metadata": {},
   "source": [
    "## 2. Optimizers"
   ]
  },
  {
   "cell_type": "markdown",
   "metadata": {},
   "source": [
    "### 2.1 Loss function"
   ]
  },
  {
   "cell_type": "markdown",
   "metadata": {},
   "source": [
    "<p>Loss function is used to measure how well a given model performs in terms of predicting the expected value. Various loss functions compare predicted and expected values differently. The most popular loss functions are MSE, MAE and cross-entropy. \n",
    "    <br>\n",
    "    <b>MSE</b> or <b>MAE</b> are used when a specific value is estimated (e.g. height in cm). \n",
    "<br>\n",
    "    <b>Cross-entropy</b> is used when a probability is estimated (e.g. probability that a student will answer a question correctly).   \n",
    "</p>\n",
    "<p><i>Usually name 'loss function' is used for a single observation and 'cost function' for an entire dataset. However, in tensorflow environment name 'loss function' is used for entire dataset as well. </i>\n",
    "    </p>"
   ]
  },
  {
   "cell_type": "markdown",
   "metadata": {},
   "source": [
    "#### 2.1.1 Example - MSE\n"
   ]
  },
  {
   "cell_type": "markdown",
   "metadata": {},
   "source": [
    "<p> <b> MSE - Mean Squared Error </b> is a loss function represented by the following equation:</p> \n",
    "$MSE = {1 \\over{n}} \\sum\\limits_{i=1}^{n}{(\\overline{y_i} - y_i)^2}$\n",
    "<br>\n",
    "where <br>\n",
    "$n$ - number of observations<br>\n",
    "$\\overline{y_i}$ - value predicted by the model for observation $i$ <br>\n",
    "$y_i$ - actual value for observation $i$ <br>\n",
    "\n",
    "<p> In this example, we will:\n",
    "    <ul>\n",
    "        <li> implement MSE from scratch in plain Python, </li>\n",
    "        <li> use already implemented MSE in tensorflow.</li>\n",
    "    </ul>\n",
    "</p>     \n",
    "    \n"
   ]
  },
  {
   "cell_type": "code",
   "execution_count": null,
   "metadata": {},
   "outputs": [],
   "source": [
    "from numpy.random import seed\n",
    "seed(1234)\n",
    "\n",
    "# Generating data\n",
    "y = np.arange(0,10)\n",
    "y_ = y + np.random.normal(loc=0, scale=1, size=10)\n",
    "print(y_)"
   ]
  },
  {
   "cell_type": "code",
   "execution_count": null,
   "metadata": {},
   "outputs": [],
   "source": [
    "# MSE from scratch in Python\n",
    "MSE = np.mean((y_-y)**2)\n",
    "print('MSE calculated from scratch in Python:', MSE)"
   ]
  },
  {
   "cell_type": "code",
   "execution_count": null,
   "metadata": {},
   "outputs": [],
   "source": [
    "# Expressing data as nodes\n",
    "ty = tf.constant(y, dtype = 'float32') # constant - it is real value\n",
    "ty_ = tf.constant(y_, dtype = 'float32') # now it's a constant as we only do math operations; \n",
    "                                          # however, usually it's Variable (changes over time during training)\n",
    "\n",
    "# MSE already implemented in tensorflow\n",
    "MSE_tf = tf.losses.mean_squared_error(labels = ty, predictions = ty_)\n",
    "print('MSE already implemented in tensorflow:', sess.run(MSE_tf))"
   ]
  },
  {
   "cell_type": "markdown",
   "metadata": {},
   "source": [
    "#### 2.1.2 Exercise - MAE"
   ]
  },
  {
   "cell_type": "markdown",
   "metadata": {},
   "source": [
    "<p> <b> MAE - Mean Absolute Error </b> is a loss function represented by the following equation:</p> \n",
    "$MAE = {1 \\over{n}} \\sum\\limits_{i=1}^{n}{\\mid \\overline{y_i} - y_i \\mid}$\n",
    "<br>\n",
    "where <br>\n",
    "$n$ - number of observations<br>\n",
    "$\\overline{y_i}$ - value predicted by the model for observation $i$ <br>\n",
    "$y_i$ - actual value for observation $i$ <br>\n",
    "<br>\n",
    "<p> In this exercise, try to:\n",
    "    <ul>\n",
    "        <li> implement MAE from scratch in plain Python, </li>\n",
    "        <li> use already implemented MAE in tensorflow</li>\n",
    "    </ul>\n",
    "    as it was done in the example above.\n",
    "</p>     \n",
    "    "
   ]
  },
  {
   "cell_type": "code",
   "execution_count": null,
   "metadata": {},
   "outputs": [],
   "source": [
    "seed(1234)\n",
    "\n",
    "# Generating data\n",
    "y = np.arange(0,10)\n",
    "y_ = y + np.random.normal(loc=0, scale=1, size=10)\n",
    "\n",
    "# Expressing data as nodes\n",
    "ty = tf.constant(y, dtype = 'float32') # constant - it is real value\n",
    "ty_ = tf.constant(y_, dtype = 'float32') # now it's a constant as we only do math operations; \n",
    "                                          # however, usually it's Variable (changes over time during training)"
   ]
  },
  {
   "cell_type": "code",
   "execution_count": null,
   "metadata": {},
   "outputs": [],
   "source": [
    "MAE = None # TODO: calculate MAE in plain Python\n",
    "print('MAE calculated from scratch in Python:', round(MAE, 5))"
   ]
  },
  {
   "cell_type": "code",
   "execution_count": null,
   "metadata": {},
   "outputs": [],
   "source": [
    "MAE_tf = None # TODO: find appropriate function already implemented in tensorflow \n",
    "print('MAE already implemented in tensorflow:', round(sess.run(MAE_tf), 5))"
   ]
  },
  {
   "cell_type": "markdown",
   "metadata": {},
   "source": [
    "The expected value for each run is: $0.877$"
   ]
  },
  {
   "cell_type": "markdown",
   "metadata": {},
   "source": [
    "#### 2.1.3 Example - cross-entropy"
   ]
  },
  {
   "cell_type": "markdown",
   "metadata": {},
   "source": [
    "<p> <b> Cross-entropy </b> is a loss function represented by the following equation:</p> \n",
    "$cross-entropy = -{1 \\over{n}} \\sum\\limits_{i=1}^{n} {y_i \\cdot log \\overline{y_i} + (1 - y_i) \\cdot log (1 - \\overline{y_i})}$\n",
    "<br>\n",
    "where <br>\n",
    "$n$ - number of observations<br>\n",
    "$\\overline{y_i}$ - probability predicted by the model for observation $i$ <br>\n",
    "$y_i$ - actual outcome for observation $i$ <br>\n"
   ]
  },
  {
   "cell_type": "code",
   "execution_count": null,
   "metadata": {},
   "outputs": [],
   "source": [
    "ty = tf.constant(np.repeat([1,0], 5))\n",
    "ty_ = tf.random_uniform(shape = [10], minval = 0, maxval = 1, seed = 12345)\n",
    "\n",
    "print(sess.run(ty))\n",
    "print(sess.run(ty_))"
   ]
  },
  {
   "cell_type": "code",
   "execution_count": null,
   "metadata": {},
   "outputs": [],
   "source": [
    "ce = tf.losses.log_loss(labels = ty, predictions = ty_)\n",
    "print(sess.run(ce))"
   ]
  },
  {
   "cell_type": "markdown",
   "metadata": {},
   "source": [
    "## 2.2 Gradient descent"
   ]
  },
  {
   "cell_type": "markdown",
   "metadata": {},
   "source": [
    "<p>The goal of training the model is to find the best fitting parameters. Loss function is used to evaluate model performance. To find the best estimators, we need to minimize this loss. Gradient descent algorithm is known as the first-order iterative optimizer. </p>\n"
   ]
  },
  {
   "cell_type": "markdown",
   "metadata": {},
   "source": [
    "### Gradient descent rule\n",
    "\n",
    "Updating parameters $\\vec{\\theta} = [{\\theta}_0, {\\theta}_1, ..., {\\theta}_k] $ in iterations:\n",
    "<br><br>\n",
    "${\\theta}_i := \\theta_i - \\alpha \\cdot \\frac{\\partial}{\\partial \\theta_i} loss(\\vec{\\theta}, X)$\n",
    "\n",
    "where <br>\n",
    "${\\theta}_i$ - $i$ parameter <br>\n",
    "$\\alpha$ - learning rate (hyperparameter) <br>\n",
    "$\\frac{\\partial}{\\partial \\theta_i} loss(\\vec{\\theta}, X)$ - partial derivative of loss function for parameter ${\\theta}_i$<br>\n",
    "$X$ - observations\n",
    "\n"
   ]
  },
  {
   "cell_type": "markdown",
   "metadata": {},
   "source": [
    "### Intuition\n",
    "![](img/2_2_Gradient_descent.png)"
   ]
  },
  {
   "cell_type": "markdown",
   "metadata": {},
   "source": [
    "### 2.2.1 Example - one number\n"
   ]
  },
  {
   "cell_type": "markdown",
   "metadata": {},
   "source": [
    "<p> We can implement gradient descent from scratch in Python. To do it, we need to calculate the derivative of our loss function.\n",
    "Let's assume that:\n",
    "    <ul>\n",
    "        <li>we use MSE loss function,</li>\n",
    "        <li>we have only one training example ($n = 1$),</li>\n",
    "        <li>$\\overline{y} = \\theta_0$.</li> \n",
    "       </ul>\n",
    "Then $MSE = {1 \\over{n}} \\sum\\limits_{i=1}^{n}{(\\overline{y_i} - y_i)^2}$ for $n = 1$ is:\n",
    "    <br>\n",
    "    $ MSE = ( \\overline{y_1} - y_1)^2$ \n",
    "    <br>\n",
    "    and \n",
    "    <br>\n",
    "    $ \\frac{\\partial}{\\partial \\theta_0 } MSE(\\theta_0) = 2 \\cdot (\\overline {y_1} - y_1)$\n",
    "</p>\n"
   ]
  },
  {
   "cell_type": "code",
   "execution_count": null,
   "metadata": {},
   "outputs": [],
   "source": [
    "y = 10 # assigning real value \n",
    "y_ = 15 # assigning initial value of estimated parameter\n",
    "\n",
    "for i in range(10):\n",
    "    dy_ = 2*(y_-y) # calculating derivative of loss function \n",
    "    y_ = y_ - 0.1 * dy_ # updating estimated value according to gradient descent with learning rate = 0.1\n",
    "    print(y_)"
   ]
  },
  {
   "cell_type": "markdown",
   "metadata": {},
   "source": [
    "Gradient descent optimizer is already implemented in tensorflow. "
   ]
  },
  {
   "cell_type": "code",
   "execution_count": null,
   "metadata": {},
   "outputs": [],
   "source": [
    "ty = tf.constant(10, dtype = 'float32') # real value \n",
    "ty_ = tf.Variable(15, dtype = 'float32') # variable which we estimate; generally it's an operation node \n",
    "                                          # with result that depends on some variables, and the optimization process\n",
    "                                          # optimizes values of these variables\n",
    "sess.run(tf.variables_initializer([ty_]))"
   ]
  },
  {
   "cell_type": "code",
   "execution_count": null,
   "metadata": {},
   "outputs": [],
   "source": [
    "optimizer = tf.train.GradientDescentOptimizer(learning_rate = 0.1) # defining optimizer with learning rate = 0.1\n",
    "loss = tf.losses.mean_squared_error(labels = ty, predictions = ty_) # defining loss function"
   ]
  },
  {
   "cell_type": "code",
   "execution_count": null,
   "metadata": {},
   "outputs": [],
   "source": [
    "for i in range(10):\n",
    "    train = optimizer.minimize(loss) # updating values with gradient descent optimizer which minimize MSE loss function\n",
    "    sess.run(train)\n",
    "    print(sess.run(ty_))\n"
   ]
  },
  {
   "cell_type": "markdown",
   "metadata": {},
   "source": [
    "### 2.2.2 Example - linear regression"
   ]
  },
  {
   "cell_type": "markdown",
   "metadata": {},
   "source": [
    "<p>Let us use more complex example to show how gradient descent works. Our task is to estimate $a, b$ and $c$ parameters in a linear model: \n",
    "<br>\n",
    "$z = a \\cdot x + b \\cdot y + c $  \n",
    "using gradient descent to minimize MSE loss function. \n",
    "</p>"
   ]
  },
  {
   "cell_type": "code",
   "execution_count": null,
   "metadata": {},
   "outputs": [],
   "source": [
    "import pandas as pd \n",
    "example_222 = pd.read_csv('data/example_222.csv', ) # read data\n",
    "example_222.head(5) # look at the data \n",
    "\n",
    "example_222['x'] = np.float32(example_222['x'])\n",
    "example_222['y'] = np.float32(example_222['y'])\n",
    "example_222['z'] = np.float32(example_222['z'])\n",
    "\n",
    "tx = tf.constant(example_222['x']) # create node \n",
    "ty = tf.constant(example_222['y'] ) # create node\n",
    "tz = tf.constant(example_222['z']) # create node"
   ]
  },
  {
   "cell_type": "code",
   "execution_count": null,
   "metadata": {},
   "outputs": [],
   "source": [
    "ta = tf.Variable(2.0) # init parameters\n",
    "tb = tf.Variable(4.0) # init parameters\n",
    "tc = tf.Variable(-14.0) # init parameters\n",
    "sess.run(tf.global_variables_initializer())\n",
    "\n",
    "tz_ = ta*tx + tb*ty + tc # create node to compute estimation of z \n",
    "\n",
    "# MODEL \n",
    "optimizer = tf.train.GradientDescentOptimizer(learning_rate = .005) # choose Gradient Descent as optimizer\n",
    "MSE = tf.losses.mean_squared_error(labels = tz, predictions = tz_) # choose MSE as loss function\n",
    "train = optimizer.minimize(MSE) # minimizing MSE with Gradient Descent optimizer\n"
   ]
  },
  {
   "cell_type": "code",
   "execution_count": null,
   "metadata": {},
   "outputs": [],
   "source": [
    "iterations = 100 # number of iterations in training \n",
    "\n",
    "# helper table to save results\n",
    "\n",
    "results = pd.DataFrame(columns = ['it', 'mse', 'a', 'b', 'c'])\n",
    "results.loc[0] = [0, sess.run(MSE), sess.run(ta), sess.run(tb), sess.run(tc)]\n",
    "results"
   ]
  },
  {
   "cell_type": "code",
   "execution_count": null,
   "metadata": {},
   "outputs": [],
   "source": [
    "# TRAINING \n",
    "for i in range(1, iterations+1):\n",
    "    sess.run(train) # one training\n",
    "    \n",
    "    # save results\n",
    "    results.loc[i] = [i, sess.run(MSE), sess.run(ta), sess.run(tb), sess.run(tc)]\n"
   ]
  },
  {
   "cell_type": "code",
   "execution_count": null,
   "metadata": {},
   "outputs": [],
   "source": [
    "# Let's check results\n",
    "print(results.head(5))\n",
    "print(results.tail(5))"
   ]
  },
  {
   "cell_type": "code",
   "execution_count": null,
   "metadata": {},
   "outputs": [],
   "source": [
    "import plotly\n",
    "import plotly.offline as py\n",
    "import plotly.graph_objs as go\n",
    "\n",
    "py.init_notebook_mode(connected=True)"
   ]
  },
  {
   "cell_type": "code",
   "execution_count": null,
   "metadata": {},
   "outputs": [],
   "source": [
    "trace = go.Scatter(\n",
    "    x = results['it'],\n",
    "    y = results['mse'],\n",
    "    mode = 'lines'\n",
    ")\n",
    "\n",
    "data = [trace]\n",
    "\n",
    "py.iplot(data)\n"
   ]
  },
  {
   "cell_type": "code",
   "execution_count": null,
   "metadata": {},
   "outputs": [],
   "source": [
    "from plotly.offline import iplot\n",
    "\n",
    "trace1 = go.Scatter(\n",
    "    x = results['it'],\n",
    "    y = results['a'],\n",
    "    mode = 'lines',\n",
    "    name = 'a'\n",
    ")\n",
    "\n",
    "trace2 = go.Scatter(\n",
    "    x = results['it'],\n",
    "    y = results['b'],\n",
    "    mode = 'lines',\n",
    "    name = 'b'\n",
    ")\n",
    "\n",
    "trace3 = go.Scatter(\n",
    "    x = results['it'],\n",
    "    y = results['c'],\n",
    "    mode = 'lines',\n",
    "    name = 'c'\n",
    ")\n",
    "\n",
    "data = [trace1, trace2, trace3]\n",
    "\n",
    "py.iplot(data)"
   ]
  },
  {
   "cell_type": "markdown",
   "metadata": {},
   "source": [
    "### 2.2.3 Exercise - lasso regression "
   ]
  },
  {
   "cell_type": "markdown",
   "metadata": {},
   "source": [
    "<p> <b> Linear regression model </b> is a model which tries to fit the best straight line to the data by minimizing MSE. \n",
    "    <br>\n",
    "    <b> Lasso </b> and <b> ridge linear regression models </b> are models which also try to fit the best straight line to the data, but by <b>minimizing MSE plus some additional penalty component</b>.\n",
    "    <br> \n",
    "    <br>\n",
    "    For linear model: $z = a \\cdot x + b \\cdot y + c $, <br>\n",
    "    where $a, b, c$ are parameters  \n",
    "    <ul>\n",
    "        <li>ridge regression minimizes: $MSE + \\lambda \\cdot (a^2 + b^2)$ </li>\n",
    "        <li>lasso regression minimizes: $MSE + \\lambda \\cdot (\\mid a \\mid  + \\mid b \\mid)$ </li>\n",
    "    </ul> \n",
    "    where $\\lambda$ is a hyperparameter which termines how severe the additional penalty is.\n",
    "</p>\n",
    "<br>\n",
    "    More details about ridge and lasso regressions in videos:\n",
    "\n",
    "- [Ridge Regression](https://www.youtube.com/watch?v=Q81RR3yKn30)\n",
    "- [Lasso Regression](https://www.youtube.com/watch?v=NGf0voTMlcs) \n"
   ]
  },
  {
   "cell_type": "markdown",
   "metadata": {},
   "source": [
    "Now, if you know how loss functions for ridge and lasso regression models look like, try to implement <b>lasso regression </b>on data from the example above (2.2.2 Example - linear regression).\n",
    "<br> \n",
    "<br>\n",
    "The task is to estimate $a, b$ and $c$ parameters in $z = a \\cdot x + b \\cdot y + c$   model using lasso regression. "
   ]
  },
  {
   "cell_type": "code",
   "execution_count": null,
   "metadata": {},
   "outputs": [],
   "source": [
    "import pandas as pd \n",
    "example_222 = pd.read_csv('data/example_222.csv', ) # read data\n",
    "example_222.head(5) # look at the data \n",
    "\n",
    "example_222['x'] = np.float32(example_222['x'])\n",
    "example_222['y'] = np.float32(example_222['y'])\n",
    "example_222['z'] = np.float32(example_222['z'])\n",
    "\n",
    "tx = tf.constant(example_222['x']) # create node \n",
    "ty = tf.constant(example_222['y'] ) # create node\n",
    "tz = tf.constant(example_222['z']) # create node"
   ]
  },
  {
   "cell_type": "code",
   "execution_count": null,
   "metadata": {},
   "outputs": [],
   "source": [
    "ta = None # TODO: init parameter a=2\n",
    "tb = None # TODO: init parameter b=4\n",
    "tc = None # TODO: init parameter c=-14\n",
    "\n",
    "sess.run(tf.global_variables_initializer())"
   ]
  },
  {
   "cell_type": "code",
   "execution_count": null,
   "metadata": {},
   "outputs": [],
   "source": [
    "tz_ = None # TODO: create node for z (node with equation which represents linear model)\n",
    "\n",
    "optimizer = None # TODO: select gradient descent optimizer and set learning rate=0.005\n",
    "mse = None # TODO: select mse loss function\n",
    "loss = None # TODO: create whole loss function: to mse add additional component for lasso regression and lambda = 0.2\n",
    "train = None # TODO: minimize loss function"
   ]
  },
  {
   "cell_type": "code",
   "execution_count": null,
   "metadata": {},
   "outputs": [],
   "source": [
    "iterations = 100 # number of iterations in training \n",
    "\n",
    "# helper table to save results\n",
    "results = pd.DataFrame(columns = ['it', 'mse', 'loss', 'a', 'b', 'c'])\n",
    "results.loc[0] = [0, sess.run(mse),sess.run(loss), sess.run(ta), sess.run(tb), sess.run(tc)]\n",
    "results"
   ]
  },
  {
   "cell_type": "code",
   "execution_count": null,
   "metadata": {},
   "outputs": [],
   "source": [
    "# TRAINING \n",
    "for i in range(1, iterations+1):\n",
    "    sess.run(train) # one training\n",
    "    \n",
    "    # save results\n",
    "    results.loc[i] = [i, sess.run(mse),sess.run(loss), sess.run(ta), sess.run(tb), sess.run(tc)]\n"
   ]
  },
  {
   "cell_type": "code",
   "execution_count": null,
   "metadata": {},
   "outputs": [],
   "source": [
    "print(results.head(5))\n",
    "print(results.tail(5))"
   ]
  },
  {
   "cell_type": "markdown",
   "metadata": {},
   "source": [
    "## 2.3 Other optimizers"
   ]
  },
  {
   "cell_type": "markdown",
   "metadata": {},
   "source": [
    "Gradient descent algorithm is an example of optimizers. However, there are also others gradient descent based optimizers:\n",
    "<ul> \n",
    "    <li><b>[Momentum optimizer](https://www.tensorflow.org/api_docs/python/tf/train/MomentumOptimizer)</b> - helps accelerate gradient descent in the right direction and decrease oscillations by keeping the momentum.\n",
    "    <li><b>[RMSProp optimizer](https://www.tensorflow.org/api_docs/python/tf/train/RMSPropOptimizer)</b> - has the same aim as momentum optimizer, however there is a difference in formula.\n",
    "    </li>\n",
    "    <li><b>[Adam optimizer](https://www.tensorflow.org/api_docs/python/tf/train/AdamOptimizer)</b> - mixes Momentum and RMSProp approaches</li>\n",
    "    <li> ...</li>\n",
    "    </ul>\n",
    "Let's see how to call different optimizers."
   ]
  },
  {
   "cell_type": "code",
   "execution_count": null,
   "metadata": {},
   "outputs": [],
   "source": [
    "# expressing data in nodes\n",
    "ty = tf.constant(10, dtype = 'float32') # real value \n",
    "ty_ = tf.Variable(15, dtype = 'float32') # variable which we estimate; generally it's an operation node \n",
    "\n",
    "loss = tf.losses.mean_squared_error(labels = ty, predictions = ty_) # loss function"
   ]
  },
  {
   "cell_type": "code",
   "execution_count": null,
   "metadata": {},
   "outputs": [],
   "source": [
    "optimizer = tf.train.GradientDescentOptimizer(learning_rate = 0.005) # gradient descent optimizer\n",
    "train = optimizer.minimize(loss) # train \n",
    "\n",
    "sess.run(tf.global_variables_initializer()) # init variables\n",
    "\n",
    "# Gradient descent\n",
    "for i in range(10):\n",
    "    sess.run(train)\n",
    "    print(sess.run(ty_))\n"
   ]
  },
  {
   "cell_type": "code",
   "execution_count": null,
   "metadata": {},
   "outputs": [],
   "source": [
    "optimizer = tf.train.MomentumOptimizer(learning_rate = 0.005, momentum = 0.8) # momentum optimizer\n",
    "train = optimizer.minimize(loss) # train \n",
    "\n",
    "sess.run(tf.global_variables_initializer()) # init variables\n",
    "\n",
    "# Momentum optimizer\n",
    "for i in range(10):\n",
    "    sess.run(train)\n",
    "    print(sess.run(ty_))"
   ]
  },
  {
   "cell_type": "markdown",
   "metadata": {},
   "source": [
    "## 2.4 Exercises"
   ]
  },
  {
   "cell_type": "markdown",
   "metadata": {},
   "source": [
    "### 2.4.1 Pythagorean theorem"
   ]
  },
  {
   "cell_type": "markdown",
   "metadata": {},
   "source": [
    "<p>We know the values of $b=12$ and $c=13$ and we know that $a,b$ and $c$ satisfy the Pythagorean theorem:  $c = \\sqrt{a^2 + b^2}$.\n",
    "Let's assume that we are not able to transform this equation to calculate $a$ value. \n",
    "    <br> The task is to estimate $a$ when we know $b$ and $c$ values and Pythagorean theorem.  \n",
    "</p>"
   ]
  },
  {
   "cell_type": "code",
   "execution_count": null,
   "metadata": {},
   "outputs": [],
   "source": [
    "tf_b = None # TODO: create node with b = 12\n",
    "tf_c = None # TODO: create node with c = 13\n",
    "tf_a = None # TODO: create node for a; initialize it with any value you want\n",
    "\n",
    "c_ = None # TODO: create node with c_ which follows the Pythagorean theorem\n",
    "\n",
    "loss = None # TODO: as loss function choose MSE\n",
    "optimizer = None # TODO: as optimizer choose Adam optimizer, choose the learning rate \n",
    "train = None # TODO: set optimizer to minimize loss function"
   ]
  },
  {
   "cell_type": "code",
   "execution_count": null,
   "metadata": {},
   "outputs": [],
   "source": [
    "None # TODO: initialize all variables\n",
    "\n",
    "print('current loss:', sess.run(loss)) # print current value of loss function for randomly initialized value of a\n",
    "\n",
    "None # TODO: do one iteration of training\n",
    "\n",
    "print('loss after one iteration of training:', sess.run(loss)) # print current value of loss function after one iteration\n",
    "print('value of a after one iteration of training:', sess.run(tf_a)) # print current value of a "
   ]
  },
  {
   "cell_type": "code",
   "execution_count": null,
   "metadata": {},
   "outputs": [],
   "source": [
    "# helper table to save results\n",
    "results = pd.DataFrame(columns = ['current_loss', 'current_value'])\n",
    "results.loc[0] = [sess.run(loss),sess.run(tf_a)]\n",
    "\n",
    "for i in range(1, 201):\n",
    "    None # TODO:  do one iteration of training\n",
    "    \n",
    "    # save results\n",
    "    results.loc[i] = [sess.run(loss),sess.run(tf_a)]"
   ]
  },
  {
   "cell_type": "markdown",
   "metadata": {},
   "source": [
    "Let us plot how loss and parameter value have changed over time."
   ]
  },
  {
   "cell_type": "code",
   "execution_count": null,
   "metadata": {},
   "outputs": [],
   "source": [
    "import plotly\n",
    "import plotly.offline as py\n",
    "import plotly.graph_objs as go\n",
    "\n",
    "py.init_notebook_mode(connected=True)"
   ]
  },
  {
   "cell_type": "code",
   "execution_count": null,
   "metadata": {},
   "outputs": [],
   "source": [
    "trace = go.Scatter(\n",
    "    x = np.arange(0, results.shape[0]),\n",
    "    y = results['current_loss'],\n",
    "    mode = 'lines'\n",
    ")\n",
    "\n",
    "data = [trace]\n",
    "\n",
    "py.iplot(data)\n"
   ]
  },
  {
   "cell_type": "code",
   "execution_count": null,
   "metadata": {},
   "outputs": [],
   "source": [
    "trace = go.Scatter(\n",
    "    x = np.arange(0, results.shape[0]),\n",
    "    y = results['current_value'],\n",
    "    mode = 'lines'\n",
    ")\n",
    "\n",
    "data = [trace]\n",
    "\n",
    "py.iplot(data)"
   ]
  },
  {
   "cell_type": "markdown",
   "metadata": {},
   "source": [
    "### 2.4.2 Times table (optional)"
   ]
  },
  {
   "cell_type": "markdown",
   "metadata": {},
   "source": [
    "There are 10 different numbers. We don't know their values. However, we know the products of all combinations of those numbers (100 products). The goal is to estimate values of those 10 numbers."
   ]
  },
  {
   "cell_type": "code",
   "execution_count": null,
   "metadata": {},
   "outputs": [],
   "source": [
    "times_table = pd.read_csv('data/example_times_table.csv') # read data\n",
    "times_table.head(5) # look at the data"
   ]
  },
  {
   "cell_type": "markdown",
   "metadata": {},
   "source": [
    "How to read data: \n",
    "- The first number squared equals 4\n",
    "- Product of the second and the first numbers equals 6\n",
    "- Product of the third and the first numbers equals 10 \n",
    "- ..."
   ]
  },
  {
   "cell_type": "code",
   "execution_count": null,
   "metadata": {},
   "outputs": [],
   "source": [
    "a_indices = None # TODO: create node for a indices (from times_table) \n",
    "b_indices = None # TODO: create node for b indices (from times_table) \n",
    "y = None # TODO: create node for a product (from times_table)"
   ]
  },
  {
   "cell_type": "code",
   "execution_count": null,
   "metadata": {},
   "outputs": [],
   "source": [
    "values = None # TODO: create node for values of parameters which we'll estimate,\n",
    "            # we'll estimate 10 numbers shape=[times_table['a_id'].nunique()]\n",
    "            # init values from uniform distribution [1,30]\n",
    "\n",
    "\n",
    "\n"
   ]
  },
  {
   "cell_type": "markdown",
   "metadata": {},
   "source": [
    "We need to match indices with their values (that is: each factor ($a$ and $b$) with index 0 is matched with the first value from tensor <b>values</b>, each factor ($a$ and $b$) with index 1 is matched with the second value from tensor <b>values</b> and so on). To do it, we use function <b>gather</b>. [Here more information about gather.](https://www.tensorflow.org/api_docs/python/tf/gather)"
   ]
  },
  {
   "cell_type": "code",
   "execution_count": null,
   "metadata": {},
   "outputs": [],
   "source": [
    "t_a_gathered = tf.gather(values, a_indices) # gather a parameters with indices\n",
    "t_b_gathered = tf.gather(values, b_indices) # gather b parameters with indices"
   ]
  },
  {
   "cell_type": "code",
   "execution_count": null,
   "metadata": {},
   "outputs": [],
   "source": [
    "y_ = None # TODO: create node which is a product of a and b; NOTE: you need to use gathered values"
   ]
  },
  {
   "cell_type": "code",
   "execution_count": null,
   "metadata": {},
   "outputs": [],
   "source": [
    "# MODEL \n",
    "loss = None # TODO: as loss function choose MSE\n",
    "optimizer = None # TODO: as optimizer choose Adam optimizer , choose the learning rate \n",
    "train = None # TODO: set optimizer to minimize loss function\n"
   ]
  },
  {
   "cell_type": "code",
   "execution_count": null,
   "metadata": {},
   "outputs": [],
   "source": [
    "None # TODO: init all variables"
   ]
  },
  {
   "cell_type": "code",
   "execution_count": null,
   "metadata": {},
   "outputs": [],
   "source": [
    "# let us take a look at the initialized values of t_a_gathered, t_b_gathered and y_\n",
    "print('a values:', sess.run(t_a_gathered))\n",
    "print('b values:', sess.run(t_b_gathered))\n",
    "print('products for iteration 0:', sess.run(y_))\n",
    "\n",
    "# Let us check what is a loss for randomly initialized values\n",
    "print('loss for iteration 0:', sess.run(loss))\n",
    "\n",
    "# Let us prepare a helper table losses with step number and loss value\n",
    "losses = pd.DataFrame(columns = ['step', 'current_loss'])\n",
    "losses.loc[0] = [0, sess.run(loss)]\n",
    "\n",
    "# Let us prepare a helper table params with step number, values of parameters for each index in a given estimation step, \n",
    "# and indices 0:9 for each value (just to plot it later)\n",
    "params = pd.DataFrame(columns= ['step', 'values_calc', 'id'])\n",
    "params.loc[0] = [0, sess.run(values), np.arange(0,10)]"
   ]
  },
  {
   "cell_type": "code",
   "execution_count": null,
   "metadata": {},
   "outputs": [],
   "source": [
    "# TRAIN \n",
    "\n",
    "for i in range(1, 501):\n",
    "    \n",
    "    None # TODO: one iteration of training\n",
    "\n",
    "    # save results\n",
    "    losses.loc[i] = [i, sess.run(loss)]\n",
    "    params.loc[i] = [i, sess.run(values), np.arange(0,10)]\n",
    "    "
   ]
  },
  {
   "cell_type": "code",
   "execution_count": null,
   "metadata": {},
   "outputs": [],
   "source": [
    "# Let's check our results\n",
    "print(losses.tail(5))\n",
    "print(params.tail(5))"
   ]
  },
  {
   "cell_type": "code",
   "execution_count": null,
   "metadata": {},
   "outputs": [],
   "source": [
    "# Let's plot loss function\n",
    "\n",
    "trace = go.Scatter(\n",
    "    x = losses['step'],\n",
    "    y = losses['current_loss']\n",
    ")\n",
    "\n",
    "data = [trace]\n",
    "\n",
    "py.iplot(data)\n"
   ]
  },
  {
   "cell_type": "markdown",
   "metadata": {},
   "source": [
    "# 3. Maximum Likelihood Estimation"
   ]
  },
  {
   "cell_type": "markdown",
   "metadata": {},
   "source": [
    "<p>\n",
    "    <b>Likelihood</b> measures the plausibility of a model parameter value, given observations we have.<br/>\n",
    "    $\\mathcal{L}(\\theta \\mid x) = p_\\theta (x) = P (X=x; \\theta)$, where\n",
    "    <ul>\n",
    "        <li>$\\mathcal{L}(\\theta \\mid x)$ is the likelihood values</li>\n",
    "        <li>$p_\\theta (x) = P (X=x; \\theta)$ is the probability of observing $x$ given parameter values are equal $\\theta$</li>\n",
    "        <li>$x$ observed data</li>\n",
    "        <li>$\\theta$ parameter values</li>\n",
    "    </ul>\n",
    "</p>\n",
    "<p>\n",
    "    In other words, it tells us what is the probability of observing what we observed, assuming the given model parameter values. The value of this probability changes depending on the $\\theta$. When these parameters have values that do not let $x$ occur, $P (X=x; \\theta) = 0$, and when it has values in which $x$ must always occur $P (X=x; \\theta) = 1$.\n",
    "</p>\n",
    "<p>\n",
    "    Of course, we usually have more than one observation: $x_1$, $x_2$, $x_3$, ... So it's likelihood is equal to:<br/>\n",
    "    $\\mathcal{L}(\\theta \\mid x_1, x_2, ..., x_n) = P (X=[x_1, x_2, ..., x_n]; \\theta) = \\prod_{i=1}^n P (X=x_i; \\theta)$<br/>\n",
    "</p>\n",
    "<p>\n",
    "    The $\\theta$ for which the value of $\\prod_{i=1}^n P (X=x_i; \\theta)$ is highest is called the Maximum Likelihood Estimate, and in the frequentist statistics it is assumed to be an accurate estimation of a latent parameter (a parameter that can't be measured directly).\n",
    "</p>"
   ]
  },
  {
   "cell_type": "markdown",
   "metadata": {},
   "source": [
    "## 3.1 Cross-entropy and MLE"
   ]
  },
  {
   "cell_type": "markdown",
   "metadata": {},
   "source": [
    "<p>\n",
    "    Now, let's take the equation from earlier<br/>\n",
    "    $\\mathcal{L}(\\theta \\mid x_1, x_2, ..., x_n) = \\prod_{i=1}^n P (X=x_i; \\theta)$\n",
    "</p>\n",
    "<p>\n",
    "    and logarithmise both sides of this equation:<br/>\n",
    "    $log \\mathcal{L}(\\theta \\mid x_1, x_2, ..., x_n) = log\\prod_{i=1}^n P (X=x_i; \\theta) = \\sum_{i=1}^n log P (X=x_i; \\theta)$<br/>\n",
    "    logarithm of the likelihood is called the log-likelihood and has the same maximum as the likelihood because logarithm is a monotonically increasing function.\n",
    "</p>\n",
    "<p>\n",
    "    Now, let's assume that we have a probability that something happened ($y_i = 1$), e.g. a student answered a test question correctly $P (Y=1; \\theta)$, then the probability of that not occuring ($y_i = 0$) in the same conditions - $P (Y=0; \\theta)$ - is equal to: $1 - P (Y=1; \\theta)$. Then:<br/>\n",
    "    $log \\mathcal{L}(\\theta \\mid y_i) = log P (Y=y_i; \\theta) = y_i \\cdot log P(Y=1; \\theta) + (1 - y_i) \\cdot log (1 - P(Y=1; \\theta))$\n",
    "</p>\n",
    "<p>\n",
    "    For simplification, let's denote $P(Y=1; \\theta)$ for given $y_i$ as $p_{i,\\theta}$. Now:<br/>\n",
    "    $log \\mathcal{L}(\\theta \\mid y_i) = y_i \\cdot log p_{i,\\theta} + (1 - y_i) \\cdot log (1 - p_{i,\\theta})$\n",
    "</p>\n",
    "<p>\n",
    "    And now let's multiply both sides by $-1$:<br/>\n",
    "    $-log \\mathcal{L}(\\theta \\mid y_i) = -(y_i \\cdot log p_{i,\\theta} + (1 - y_i) \\cdot log (1 - p_{i,\\theta})) = cross$-$entropy(p_{i,\\theta}, y_i)$\n",
    "</p>\n",
    "<p>\n",
    "    Thus:\n",
    "    <ul>\n",
    "        <li><b>when we minimise the value of cross-entropy we also maximise the likelihood</b> (because we minimise the negative log-likelihood)</li>\n",
    "        <li>what we do in TensorFlow is not magic that just works, it's a well established statistical method that has been in use for over a century</li>\n",
    "        <li>it also applies to very complicated models called neural networks. Just in this case, we do not believe that parameters we estimate make any sense</li>\n",
    "    </ul>\n",
    "</p>"
   ]
  },
  {
   "cell_type": "markdown",
   "metadata": {},
   "source": [
    "## 3.2 Example - an unbalanced coin and MLE"
   ]
  },
  {
   "cell_type": "code",
   "execution_count": null,
   "metadata": {},
   "outputs": [],
   "source": [
    "import numpy as np\n",
    "import pandas as  pd\n",
    "import tensorflow as tf\n",
    "import plotly\n",
    "import plotly.offline as py\n",
    "import plotly.graph_objs as go\n",
    "\n",
    "py.init_notebook_mode(connected=True)"
   ]
  },
  {
   "cell_type": "markdown",
   "metadata": {},
   "source": [
    "In this section we will use TF and MLE to estimate the probability that an unbalanced coin lands heads up - $p_H$. Below we have a result of 100 coin tosses."
   ]
  },
  {
   "cell_type": "code",
   "execution_count": null,
   "metadata": {},
   "outputs": [],
   "source": [
    "# 1 - HEADS, 0 - TAILS\n",
    "results = np.array([0, 1, 1, 0, 1, 1, 1, 1, 1, 1, 0, 1, 0, 0, 1, 1, 0, 0, 1, 0, 1, 0, 1, 0, 1, 0, 0, 1, 1, 1, 0, 0, 1, 0, 1, 1, 1, 1, 1, 0, 0, 0, 1, 1, 1, 0, 0, 0, 1, 1, 1, 0, 0, 1, 0, 1, 1, 1, 0, 1, 1, 0, 0, 1, 1, 0, 0, 1, 0, 0, 0, 1, 0, 1, 0, 1, 1, 1, 0, 1, 1, 1, 1, 1, 1, 1, 0, 0, 0, 1, 1, 1, 1, 1, 0, 1, 1, 1, 0, 1])"
   ]
  },
  {
   "cell_type": "code",
   "execution_count": null,
   "metadata": {},
   "outputs": [],
   "source": [
    "t_p = tf.Variable(0.01) # the variable containing a probability of a coin landing heads up. Let's initialise\n",
    "                        # it with 0.01 (assume this coin almost always lands tails up)\n",
    "t_y = tf.constant(results)\n",
    "\n",
    "p_vector = tf.fill((tf.size(t_y),), t_p) # we need to calculate the expected probability for each coin toss we observed\n",
    "                                         # however, it's the same in all attempts, so we just assume the current t_p estimate for each observation\n",
    "\n",
    "t_loss = tf.losses.log_loss(t_y, p_vector) # now we need to calculate the cross-entropy between estimated probability, and each observation\n",
    "loss = tf.reduce_mean(t_loss)              # here we average losses for all observation, to have a single value, which we will want to minimise\n",
    "\n",
    "# and now, we also need to establish the optimisation process...\n",
    "optimizer = tf.train.AdamOptimizer(0.1)\n",
    "train = optimizer.minimize(loss)\n",
    "\n",
    "# as always we need to create a session\n",
    "sess = tf.Session() \n",
    "sess.run(tf.global_variables_initializer())"
   ]
  },
  {
   "cell_type": "code",
   "execution_count": null,
   "metadata": {},
   "outputs": [],
   "source": [
    "iter = 1000 # number of iterations to run\n",
    "\n",
    "# table for storing model parameter optimisation progress log\n",
    "r = pd.DataFrame(columns = ['it', 'loss', 'prob'])"
   ]
  },
  {
   "cell_type": "code",
   "execution_count": null,
   "metadata": {},
   "outputs": [],
   "source": [
    "# now we've got everything, so LET'S START THE ESTIMATION\n",
    "for i in range(iter):\n",
    "    sess.run(train)\n",
    "    r.loc[i] = [i, sess.run(loss), sess.run(t_p)]"
   ]
  },
  {
   "cell_type": "code",
   "execution_count": null,
   "metadata": {},
   "outputs": [],
   "source": [
    "print('Final probability that the coin lands heads up is {}.'.format(sess.run(t_p)))"
   ]
  },
  {
   "cell_type": "markdown",
   "metadata": {},
   "source": [
    "When we finished the estimation process, we can check how the loss value and the estimated probability was changing during the iteration:"
   ]
  },
  {
   "cell_type": "code",
   "execution_count": null,
   "metadata": {},
   "outputs": [],
   "source": [
    "trace = go.Scatter(\n",
    "    x = r['it'],\n",
    "    y = r['loss'],\n",
    "    mode = 'lines'\n",
    ")\n",
    "\n",
    "data = [trace]\n",
    "\n",
    "py.iplot(data)"
   ]
  },
  {
   "cell_type": "code",
   "execution_count": null,
   "metadata": {},
   "outputs": [],
   "source": [
    "trace = go.Scatter(\n",
    "    x = r['it'],\n",
    "    y = r['prob'],\n",
    "    mode = 'lines'\n",
    ")\n",
    "\n",
    "data = [trace]\n",
    "\n",
    "py.iplot(data)"
   ]
  },
  {
   "cell_type": "markdown",
   "metadata": {},
   "source": [
    "## 3.3 Example - MLE of normal distribution parameters"
   ]
  },
  {
   "cell_type": "markdown",
   "metadata": {},
   "source": [
    "<p>\n",
    "    In this section, we will use the maximum likelihood estimation of parameters for a continuous probability distribution. In such cases, we need to use an alternative likelihood definition:<br/>\n",
    "    $\\mathcal{L}(\\theta \\mid x) = f (X=x; \\theta)$<br/>\n",
    "    where $f (X=x; \\theta)$ is the value of the probability density function (<i>pdf</i>)\n",
    "</p>\n",
    "<p>\n",
    "    Since we are working with the normal distribution, which have two parameters (mean and standard deviation), the total likelihood of all observations takes form:\n",
    "    $\\mathcal{L}(mean, sd \\mid x_1, x_2, ..., x_n) = \\prod_{i=1}^n f (X=x_i; mean, sd)$,\n",
    "    and<br/>\n",
    "    $log\\mathcal{L}(mean, sd \\mid x_1, x_2, ..., x_n) = \\sum_{i=1}^n log f (X=x_i; mean, sd)$\n",
    "</p>\n",
    "<p>\n",
    "    <b>QUESTION</b>: is there any reason why we should prefer one of these forms over another? (e.g. a sum of logarithms over a product)\n",
    "</p>"
   ]
  },
  {
   "cell_type": "code",
   "execution_count": null,
   "metadata": {},
   "outputs": [],
   "source": [
    "import numpy as np\n",
    "import pandas as  pd\n",
    "import tensorflow as tf\n",
    "import plotly\n",
    "import plotly.offline as py\n",
    "import plotly.graph_objs as go\n",
    "\n",
    "py.init_notebook_mode(connected=True)"
   ]
  },
  {
   "cell_type": "markdown",
   "metadata": {},
   "source": [
    "Let's start with generating some sample data:"
   ]
  },
  {
   "cell_type": "code",
   "execution_count": null,
   "metadata": {},
   "outputs": [],
   "source": [
    "nd_mean = 3   # the mean of our distribution\n",
    "nd_sd = 2     # the standard deviation of our distribution\n",
    "nd_data = np.float32(np.random.normal(nd_mean, nd_sd, 1000)) # and the actual data"
   ]
  },
  {
   "cell_type": "markdown",
   "metadata": {},
   "source": [
    "Now, we need to build a model:"
   ]
  },
  {
   "cell_type": "code",
   "execution_count": null,
   "metadata": {},
   "outputs": [],
   "source": [
    "t_mean = tf.Variable(0.0) # a variable for the mean of the distribution, let's set it initially to 0\n",
    "t_sd = tf.Variable(1.0)   # a variable for the sd of the distribution, let's set it initially to 1\n",
    "\n",
    "dist = tf.distributions.Normal(loc = t_mean, scale = t_sd) # a distribution we will use, it takes variables storing mean and sd as parameters\n",
    "\n",
    "lprobs = dist.log_prob(nd_data) # log-likelihoods of parameters for each observation, i.e. logarithms of pdf values assuming current t_mean and t_sd \n",
    "negLL = -tf.reduce_sum(lprobs)  # sum of observations likelihoods. It's negative, because it is a value we will be minimising \n",
    "\n",
    "# of course, we also need to establish the optimisation process...\n",
    "optimizer = tf.train.AdamOptimizer(0.1)\n",
    "train = optimizer.minimize(negLL)\n",
    "\n",
    "# ... and create a session\n",
    "sess = tf.Session() \n",
    "sess.run(tf.global_variables_initializer())"
   ]
  },
  {
   "cell_type": "code",
   "execution_count": null,
   "metadata": {},
   "outputs": [],
   "source": [
    "iter = 1000 # number of iterations to run\n",
    "\n",
    "# table for storing model parameter optimisation progress log\n",
    "r = pd.DataFrame(columns = ['it', 'negLL', 'mean', 'sd'])"
   ]
  },
  {
   "cell_type": "code",
   "execution_count": null,
   "metadata": {},
   "outputs": [],
   "source": [
    "# now we've got everything, so let's start\n",
    "for i in range(iter):\n",
    "    sess.run(train)\n",
    "    r.loc[i] = [i, sess.run(negLL), sess.run(t_mean), sess.run(t_sd)]"
   ]
  },
  {
   "cell_type": "markdown",
   "metadata": {},
   "source": [
    "Now when our model parameters were fitted to the data, we can check how it went. Let's start with the likelihood maximisation (or rather minimisation of the negative log-likelihood):"
   ]
  },
  {
   "cell_type": "code",
   "execution_count": null,
   "metadata": {},
   "outputs": [],
   "source": [
    "trace = go.Scatter(\n",
    "    x = r['it'],\n",
    "    y = r['negLL'],\n",
    "    mode = 'lines'\n",
    ")\n",
    "\n",
    "data = [trace]\n",
    "\n",
    "py.iplot(data)"
   ]
  },
  {
   "cell_type": "markdown",
   "metadata": {},
   "source": [
    "We can also check how values of mean and standard deviation were changing during iteration:"
   ]
  },
  {
   "cell_type": "code",
   "execution_count": null,
   "metadata": {},
   "outputs": [],
   "source": [
    "trace_mean = go.Scatter(\n",
    "    x = r['it'],\n",
    "    y = r['mean'],\n",
    "    mode = 'lines',\n",
    "    name = 'mean'\n",
    ")\n",
    "\n",
    "trace_sd = go.Scatter(\n",
    "    x = r['it'],\n",
    "    y = r['sd'],\n",
    "    mode = 'lines',\n",
    "    name = 'sd'\n",
    ")\n",
    "\n",
    "\n",
    "data = [trace_mean, trace_sd]\n",
    "\n",
    "py.iplot(data)"
   ]
  },
  {
   "cell_type": "markdown",
   "metadata": {},
   "source": [
    "## 3.4 Exercise - A bribe-taking mayor"
   ]
  },
  {
   "cell_type": "code",
   "execution_count": null,
   "metadata": {},
   "outputs": [],
   "source": [
    "import numpy as np\n",
    "import pandas as  pd\n",
    "import tensorflow as tf\n",
    "import datetime"
   ]
  },
  {
   "cell_type": "markdown",
   "metadata": {},
   "source": [
    "<p>\n",
    "    The mayor of Los Data-flowos is a well-known bribe-taker. The local data science club decided to find out in what conditions he is eager to take a bribe. They discovered two main factors that influence it.\n",
    "</p>\n",
    "<p>\n",
    "    The first one is the amount of money offered, which have a logarhitmic influence on the mayor, which is proportional to:<br/>\n",
    "    $mc \\cdot log(ao + ml)$, where<br/>\n",
    "    <ul>\n",
    "        <li><b>mc</b> - money coefficient, currently unknown and needs to be estimated</li>\n",
    "        <li><b>ao</b> - amount of money offered by a briber</li>\n",
    "        <li><b>ml</b> - location parameter of the amount of money offered, currently unknown and needs to be estimated</li>\n",
    "    </ul>\n",
    "</p>\n",
    "<p>\n",
    "    The second one is the number of policemen potential briber knows, which have influence on mayor's decision proportional to:<br/>\n",
    "    $pc \\cdot np^{pp}$, where<br/>\n",
    "    <ul>\n",
    "        <li><b>pc</b> - coefficient for the number of known policemen, currently unknown and needs to be estimated</li>\n",
    "        <li><b>np</b> - number of policemen known by the briber</li>\n",
    "        <li><b>pp</b> - exponent for the number of policemen, currently unknown and needs to be estimated</li>\n",
    "    </ul>\n",
    "</p>\n",
    "<p>\n",
    "    Members of the club were also able to collect some observations. Each consists of this observations consists of three features:\n",
    "    <ul>\n",
    "        <li><b>money</b> - amount of money offered</li>\n",
    "        <li><b>policemen</b> - number of policemen potential briber knows</li>\n",
    "        <li><b>bribe_accepted</b> - binary flag informing if mayor accepted the bribe</li>\n",
    "    </ul>\n",
    "</p>\n",
    "<p>\n",
    "    Your task is to use TensorFlow to estimate parameter values of a model predicting if the mayor will take a bribe:\n",
    "    <ul>\n",
    "        <li><b>mc</b> called <b>v_money_coef</b> below</li>\n",
    "        <li><b>ml</b> called <b>v_money_loc</b> below</li>\n",
    "        <li><b>pc</b> called <b>v_policemen_coef</b> below</li>\n",
    "        <li><b>pp</b> called <b>v_policemen_pow</b> below</li>\n",
    "        <li><b>intercept</b> called <b>v_intercept</b> below</li>\n",
    "    </ul>\n",
    "</p>"
   ]
  },
  {
   "cell_type": "code",
   "execution_count": null,
   "metadata": {},
   "outputs": [],
   "source": [
    "bribers = pd.read_csv('data/bribers.csv')\n",
    "bribers['policemen'] = np.float64(bribers['policemen'])"
   ]
  },
  {
   "cell_type": "code",
   "execution_count": null,
   "metadata": {},
   "outputs": [],
   "source": [
    "bribers.head()"
   ]
  },
  {
   "cell_type": "markdown",
   "metadata": {},
   "source": [
    "Start with loading the data into the graph..."
   ]
  },
  {
   "cell_type": "code",
   "execution_count": null,
   "metadata": {},
   "outputs": [],
   "source": [
    "t_money = None          # TODO: create a constant with amounts of money offered\n",
    "t_policemen = None      # TODO: create a constant with numbers of policemen known\n",
    "t_bribe_accepted = None # TODO: create a constant with flags whether bribes was accepted in given attempts"
   ]
  },
  {
   "cell_type": "markdown",
   "metadata": {},
   "source": [
    "... and declaring variables for parameters you want to estimate. Set the initial value of each variable to 1."
   ]
  },
  {
   "cell_type": "code",
   "execution_count": null,
   "metadata": {},
   "outputs": [],
   "source": [
    "v_money_loc = tf.abs(None) # TODO: create a variable for money_loc (ml). Initialise it with 1.0. (later we only use absolute value to avoid negatives)\n",
    "v_money_coef = None        # TODO: create a variable for money_coef (mc). Initialise it with 1.0.\n",
    "\n",
    "v_policemen_pow = None     # TODO: create a variable for policemen_power (pp). Initialise it with 1.0.\n",
    "v_policemen_coef = None    # TODO: create a variable for policemen_coef (pc). Initialise it with 1.0.\n",
    "\n",
    "v_intercept = None         # TODO: create a variable for intercept. Initialise it with 1.0."
   ]
  },
  {
   "cell_type": "markdown",
   "metadata": {},
   "source": [
    "Now, you need to build a graph describing, how probability of taking a bribe can be calculated using constants and variables. You also need to define a total loss, and the optimisation process. "
   ]
  },
  {
   "cell_type": "code",
   "execution_count": null,
   "metadata": {},
   "outputs": [],
   "source": [
    "money_comp = None     # TODO: calculate money component as money_coef + log(money + money_loc)\n",
    "policemen_comp = None # TODO: calculate policemen component as policemen_coef * (policemen ^ policemen_power)\n",
    "\n",
    "logit = None          # TODO: calculate logit as a sum of money component, policemen component and intercept\n",
    "prob = None           # TODO: convert logit to a probability using a sigmoid function\n",
    "\n",
    "loss = None           # TODO: calculate mean cross-entropy loss of the estimated probability\n",
    "\n",
    "optimizer = None      # TODO: create an Adam optimiser with a learning rate equal 0.05\n",
    "train = None          # TODO: use optimiser to minimise loss"
   ]
  },
  {
   "cell_type": "markdown",
   "metadata": {},
   "source": [
    "And now, it's time to create a session, and run the optimisation process:"
   ]
  },
  {
   "cell_type": "code",
   "execution_count": null,
   "metadata": {},
   "outputs": [],
   "source": [
    "sess = tf.Session()\n",
    "sess.run(tf.global_variables_initializer())"
   ]
  },
  {
   "cell_type": "code",
   "execution_count": null,
   "metadata": {},
   "outputs": [],
   "source": [
    "for i in range(1001):\n",
    "    sess.run(train)\n",
    "    if(i % 100 == 0):\n",
    "        print('{}) {} Loss: {}'.format(i, datetime.datetime.now(), sess.run(loss)))"
   ]
  },
  {
   "cell_type": "markdown",
   "metadata": {},
   "source": [
    "When optimisation is finished, we can read parameter values:"
   ]
  },
  {
   "cell_type": "code",
   "execution_count": null,
   "metadata": {},
   "outputs": [],
   "source": [
    "print('v_money_loc: {}'.format(sess.run(v_money_loc)))\n",
    "print('v_money_coef: {}'.format(sess.run(v_money_coef)))\n",
    "print('v_policemen_pow: {}'.format(sess.run(v_policemen_pow)))\n",
    "print('v_policemen_coef: {}'.format(sess.run(v_policemen_coef)))\n",
    "print('v_intercept: {}'.format(sess.run(v_intercept)))"
   ]
  },
  {
   "cell_type": "markdown",
   "metadata": {},
   "source": [
    "<p>\n",
    "    Local fortune-teller is sure that these parameters should be equal:<br/>\n",
    "    money_loc = 2<br/>\n",
    "    money_coef = 1<br/>\n",
    "    policemen_pow = 1.3<br/>\n",
    "    policemen_coef = -0.5<br/>\n",
    "    intercept = -1.5<br/>\n",
    "    It seems these numbers are correct, as they often worked. Are your estimates similar?\n",
    "</p>"
   ]
  },
  {
   "cell_type": "code",
   "execution_count": null,
   "metadata": {},
   "outputs": [],
   "source": []
  }
 ],
 "metadata": {
  "kernelspec": {
   "display_name": "Python 3",
   "language": "python",
   "name": "python3"
  },
  "language_info": {
   "codemirror_mode": {
    "name": "ipython",
    "version": 3
   },
   "file_extension": ".py",
   "mimetype": "text/x-python",
   "name": "python",
   "nbconvert_exporter": "python",
   "pygments_lexer": "ipython3",
   "version": "3.6.6"
  }
 },
 "nbformat": 4,
 "nbformat_minor": 2
}
